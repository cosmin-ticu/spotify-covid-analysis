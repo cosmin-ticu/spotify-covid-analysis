{
 "cells": [
  {
   "cell_type": "markdown",
   "metadata": {},
   "source": [
    "# This section of the code merges all of the Spotify Viral Top 50 datasets."
   ]
  },
  {
   "cell_type": "code",
   "execution_count": 1,
   "metadata": {},
   "outputs": [],
   "source": [
    "# Import relevant packages for concatenation\n",
    "\n",
    "import os\n",
    "import pandas as pd\n",
    "import datetime"
   ]
  },
  {
   "cell_type": "markdown",
   "metadata": {},
   "source": [
    "#### Be sure to change the directory to your local computer's directory. It is highly advised that you download the GitHub repo's codes as a zip and set up its root folder as your directory."
   ]
  },
  {
   "cell_type": "code",
   "execution_count": 9,
   "metadata": {},
   "outputs": [],
   "source": [
    "os.chdir('F:\\OneDrive - Central European University\\Courses\\Winter_Term\\Coding 3\\Term Project\\spotify-covid-analysis\\data')"
   ]
  },
  {
   "cell_type": "code",
   "execution_count": 10,
   "metadata": {},
   "outputs": [
    {
     "name": "stdout",
     "output_type": "stream",
     "text": [
      "This file -> all_spotify_data.csv does not belong to the lists\n",
      "This file -> spotify_covid_data.csv does not belong to the lists\n",
      "This file -> spotify_viral_weekly_2020.csv does not belong to the lists\n"
     ]
    }
   ],
   "source": [
    "### Assign filenames to lists based on first letter. Print warning for skipped files.\n",
    "spotify_file_list = []\n",
    "\n",
    "for i in filenames:\n",
    "    if i[0] == \"v\":\n",
    "        spotify_file_list.append(i)\n",
    "    else:\n",
    "        print('This file -> {} does not belong to the lists'.format(i))"
   ]
  },
  {
   "cell_type": "code",
   "execution_count": 11,
   "metadata": {},
   "outputs": [],
   "source": [
    "### initialize empty list to use in the loop\n",
    "spotify_dataframes = []\n",
    "\n",
    "### read every spotify viral top 50 CSV into the list\n",
    "for i in spotify_file_list:\n",
    "    date_for_file = i.split('--')[-1].split('.')[0]\n",
    "    date_for_file = datetime.datetime.strptime(date_for_file, \"%Y-%m-%d\").date()\n",
    "    i_df = pd.read_csv(i)\n",
    "    i_df['Date'] = date_for_file\n",
    "    spotify_dataframes.append(i_df)\n",
    "    \n",
    "### concatenate all the dataframes into one\n",
    "spotify_viral = pd.concat(spotify_dataframes)"
   ]
  },
  {
   "cell_type": "code",
   "execution_count": 12,
   "metadata": {},
   "outputs": [],
   "source": [
    "# Write the concatenated dataframe to CSV\n",
    "\n",
    "spotify_viral.to_csv('spotify_viral_weekly_2020.csv')"
   ]
  }
 ],
 "metadata": {
  "kernelspec": {
   "display_name": "Python 3",
   "language": "python",
   "name": "python3"
  },
  "language_info": {
   "codemirror_mode": {
    "name": "ipython",
    "version": 3
   },
   "file_extension": ".py",
   "mimetype": "text/x-python",
   "name": "python",
   "nbconvert_exporter": "python",
   "pygments_lexer": "ipython3",
   "version": "3.8.5"
  }
 },
 "nbformat": 4,
 "nbformat_minor": 4
}

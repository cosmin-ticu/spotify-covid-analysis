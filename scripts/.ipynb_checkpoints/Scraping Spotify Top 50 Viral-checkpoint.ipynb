{
 "cells": [
  {
   "cell_type": "markdown",
   "metadata": {},
   "source": [
    "# This section of the code scrapes the weekly Spotify Top 50 page and downloads the data as CSV to a directory of your choice."
   ]
  },
  {
   "cell_type": "markdown",
   "metadata": {},
   "source": [
    "Be advised that this script only works with the chromedriver available to download at this link (https://chromedriver.chromium.org/downloads). This chrome driver is made for automated control of the browser."
   ]
  },
  {
   "cell_type": "markdown",
   "metadata": {},
   "source": [
    "#### The Spotify Viral Top 50 page on a weekly basis was chosen for this analysis as it provides fresh new songs rather than the top 200 charts (in which songs usually take months to change position). You can find the link to the latest Spotify Top 50 Viral page here (https://spotifycharts.com/viral/global/weekly)."
   ]
  },
  {
   "cell_type": "code",
   "execution_count": null,
   "metadata": {},
   "outputs": [],
   "source": [
    "# Set up the packages required for the webdriver to function\n",
    "# Main package of interest here is selenium\n",
    "\n",
    "from selenium import webdriver\n",
    "from selenium.webdriver.common.by import By\n",
    "from selenium.webdriver.chrome.options import Options\n",
    "import time"
   ]
  },
  {
   "cell_type": "code",
   "execution_count": null,
   "metadata": {},
   "outputs": [],
   "source": [
    "# Define function that enables the Chrome agent to headlessly \"click\" on the \"Download to CSV\" option\n",
    "\n",
    "def headless_download(url,download_dir,chromedriver_dir):\n",
    "    #object of ChromeOptions\n",
    "    op = webdriver.ChromeOptions()\n",
    "\n",
    "    #set download directory path\n",
    "    #adding preferences to ChromeOptions\n",
    "    op.add_experimental_option(\"prefs\", {\n",
    "            \"download.default_directory\": download_dir,\n",
    "            \"download.prompt_for_download\": False,\n",
    "            \"download.directory_upgrade\": True,\n",
    "            \"safebrowsing_for_trusted_sources_enabled\": False,\n",
    "            \"safebrowsing.enabled\": False\n",
    "    })\n",
    "    op.add_argument(\"--headless\")\n",
    "    op.add_argument(\"--window-size=1920x1080\")\n",
    "    op.add_argument(\"--disable-notifications\")\n",
    "    op.add_argument('--no-sandbox')\n",
    "    op.add_argument('--verbose')\n",
    "\n",
    "    # initialize driver object and point to where your chromedriver should be\n",
    "    driver = webdriver.Chrome(executable_path=chromedriver_dir, options=op)\n",
    "    driver.implicitly_wait(0.4)\n",
    "    driver.get(url);\n",
    "\n",
    "    #identify element for the driver to click on (CSS was chosen here)\n",
    "    m = driver.find_element_by_css_selector('.header-csv')\n",
    "    m.click()\n",
    "\n",
    "    # give some time to download file before closing the driver\n",
    "    time.sleep(5)\n",
    "    driver.close()\n",
    "\n",
    "    print('Downloaded one Spotify Viral Top 50 CSV')"
   ]
  },
  {
   "cell_type": "markdown",
   "metadata": {},
   "source": [
    "#### Once the webscraping function has been created, it can be used recursively, not just for a single page at a single time. Before building a loop that gathers all of the data, we need to create automatic URLs based on the dates used by the weekly Spotify Top 50 Viral webpage."
   ]
  },
  {
   "cell_type": "markdown",
   "metadata": {},
   "source": [
    "Be advised that Spotify releases their Viral Top 50 every week on Wednesday, so the start date for the automatic date creation needs to be a Wednesday at any given point in time. Otherwise, the URLs will not work."
   ]
  },
  {
   "cell_type": "code",
   "execution_count": null,
   "metadata": {},
   "outputs": [],
   "source": [
    "from datetime import timedelta, date"
   ]
  },
  {
   "cell_type": "code",
   "execution_count": null,
   "metadata": {},
   "outputs": [],
   "source": [
    "# Define function that takes the range of dates between two days (easiest way for the Spotify algo is to give Wednesdays)\n",
    "\n",
    "def daterange(date1, date2):\n",
    "    for n in range(int ((date2 - date1).days)+1):\n",
    "        yield date1 + timedelta(n)"
   ]
  },
  {
   "cell_type": "markdown",
   "metadata": {},
   "source": [
    "#### The function that produces the Wednesdays of every week was given default values for the scope of this analysis, but it can always be run with different parameters."
   ]
  },
  {
   "cell_type": "code",
   "execution_count": null,
   "metadata": {},
   "outputs": [],
   "source": [
    "# Define function that takes the date range and only keeps every 7th element, thus every Wednesday of every week\n",
    "\n",
    "def get_wednesday_every_week(start_dt = date(2020, 1, 2), end_dt = date(2020, 12, 31)):\n",
    "    list_dates = []\n",
    "    for dt in daterange(start_dt, end_dt):\n",
    "        list_dates.append(dt.strftime(\"%Y-%m-%d\"))\n",
    "    list_dates = list_dates[::7]\n",
    "    return list_dates"
   ]
  },
  {
   "cell_type": "markdown",
   "metadata": {},
   "source": [
    "#### Inspecting the structure of the URLs, append the produced dates to a list of URLs that match the format needed by the weekly Spotify Top 50 Viral."
   ]
  },
  {
   "cell_type": "code",
   "execution_count": 3,
   "metadata": {},
   "outputs": [],
   "source": [
    "# Generate URLs\n",
    "\n",
    "def produce_spotify_urls():\n",
    "    temp = get_wednesday_every_week()\n",
    "    spotify_urls = []\n",
    "    for wednesday in temp:\n",
    "        spotify_urls.append('https://spotifycharts.com/viral/global/weekly/{}--{}'.format(wednesday,wednesday))\n",
    "        print('Will download Spotify Viral Top 50 data for the week of {}'.format(wednesday))\n",
    "    return spotify_urls"
   ]
  },
  {
   "cell_type": "markdown",
   "metadata": {},
   "source": [
    "#### Create the final function which takes the download directory and chrome driver directory and downloads everything from the Spotify Viral Top 50 URLs to the specified directory."
   ]
  },
  {
   "cell_type": "code",
   "execution_count": null,
   "metadata": {},
   "outputs": [],
   "source": [
    "# Final function that takes in the directories. Be sure to change this when running on your machine!\n",
    "\n",
    "def download_spotify(download_dir = \"C:\\\\Users\\cosmi\\Downloads\", chromedriver_dir = \"C:/Users/cosmi/Desktop/chromedriver.exe\"):\n",
    "    spotify_urls = produce_spotify_urls()\n",
    "    for url in spotify_urls:\n",
    "        headless_download(url, download_dir, chromedriver_dir)"
   ]
  },
  {
   "cell_type": "code",
   "execution_count": 4,
   "metadata": {},
   "outputs": [
    {
     "name": "stdout",
     "output_type": "stream",
     "text": [
      "Will download Spotify Viral Top 50 data for the week of 2020-01-02\n",
      "Will download Spotify Viral Top 50 data for the week of 2020-01-09\n",
      "Will download Spotify Viral Top 50 data for the week of 2020-01-16\n",
      "Will download Spotify Viral Top 50 data for the week of 2020-01-23\n",
      "Will download Spotify Viral Top 50 data for the week of 2020-01-30\n",
      "Will download Spotify Viral Top 50 data for the week of 2020-02-06\n",
      "Will download Spotify Viral Top 50 data for the week of 2020-02-13\n",
      "Will download Spotify Viral Top 50 data for the week of 2020-02-20\n",
      "Will download Spotify Viral Top 50 data for the week of 2020-02-27\n",
      "Will download Spotify Viral Top 50 data for the week of 2020-03-05\n",
      "Will download Spotify Viral Top 50 data for the week of 2020-03-12\n",
      "Will download Spotify Viral Top 50 data for the week of 2020-03-19\n",
      "Will download Spotify Viral Top 50 data for the week of 2020-03-26\n",
      "Will download Spotify Viral Top 50 data for the week of 2020-04-02\n",
      "Will download Spotify Viral Top 50 data for the week of 2020-04-09\n",
      "Will download Spotify Viral Top 50 data for the week of 2020-04-16\n",
      "Will download Spotify Viral Top 50 data for the week of 2020-04-23\n",
      "Will download Spotify Viral Top 50 data for the week of 2020-04-30\n",
      "Will download Spotify Viral Top 50 data for the week of 2020-05-07\n",
      "Will download Spotify Viral Top 50 data for the week of 2020-05-14\n",
      "Will download Spotify Viral Top 50 data for the week of 2020-05-21\n",
      "Will download Spotify Viral Top 50 data for the week of 2020-05-28\n",
      "Will download Spotify Viral Top 50 data for the week of 2020-06-04\n",
      "Will download Spotify Viral Top 50 data for the week of 2020-06-11\n",
      "Will download Spotify Viral Top 50 data for the week of 2020-06-18\n",
      "Will download Spotify Viral Top 50 data for the week of 2020-06-25\n",
      "Will download Spotify Viral Top 50 data for the week of 2020-07-02\n",
      "Will download Spotify Viral Top 50 data for the week of 2020-07-09\n",
      "Will download Spotify Viral Top 50 data for the week of 2020-07-16\n",
      "Will download Spotify Viral Top 50 data for the week of 2020-07-23\n",
      "Will download Spotify Viral Top 50 data for the week of 2020-07-30\n",
      "Will download Spotify Viral Top 50 data for the week of 2020-08-06\n",
      "Will download Spotify Viral Top 50 data for the week of 2020-08-13\n",
      "Will download Spotify Viral Top 50 data for the week of 2020-08-20\n",
      "Will download Spotify Viral Top 50 data for the week of 2020-08-27\n",
      "Will download Spotify Viral Top 50 data for the week of 2020-09-03\n",
      "Will download Spotify Viral Top 50 data for the week of 2020-09-10\n",
      "Will download Spotify Viral Top 50 data for the week of 2020-09-17\n",
      "Will download Spotify Viral Top 50 data for the week of 2020-09-24\n",
      "Will download Spotify Viral Top 50 data for the week of 2020-10-01\n",
      "Will download Spotify Viral Top 50 data for the week of 2020-10-08\n",
      "Will download Spotify Viral Top 50 data for the week of 2020-10-15\n",
      "Will download Spotify Viral Top 50 data for the week of 2020-10-22\n",
      "Will download Spotify Viral Top 50 data for the week of 2020-10-29\n",
      "Will download Spotify Viral Top 50 data for the week of 2020-11-05\n",
      "Will download Spotify Viral Top 50 data for the week of 2020-11-12\n",
      "Will download Spotify Viral Top 50 data for the week of 2020-11-19\n",
      "Will download Spotify Viral Top 50 data for the week of 2020-11-26\n",
      "Will download Spotify Viral Top 50 data for the week of 2020-12-03\n",
      "Will download Spotify Viral Top 50 data for the week of 2020-12-10\n",
      "Will download Spotify Viral Top 50 data for the week of 2020-12-17\n",
      "Will download Spotify Viral Top 50 data for the week of 2020-12-24\n",
      "Will download Spotify Viral Top 50 data for the week of 2020-12-31\n",
      "Downloaded one Spotify Viral Top 50 CSV\n",
      "Downloaded one Spotify Viral Top 50 CSV\n",
      "Downloaded one Spotify Viral Top 50 CSV\n",
      "Downloaded one Spotify Viral Top 50 CSV\n",
      "Downloaded one Spotify Viral Top 50 CSV\n",
      "Downloaded one Spotify Viral Top 50 CSV\n",
      "Downloaded one Spotify Viral Top 50 CSV\n",
      "Downloaded one Spotify Viral Top 50 CSV\n",
      "Downloaded one Spotify Viral Top 50 CSV\n",
      "Downloaded one Spotify Viral Top 50 CSV\n",
      "Downloaded one Spotify Viral Top 50 CSV\n",
      "Downloaded one Spotify Viral Top 50 CSV\n",
      "Downloaded one Spotify Viral Top 50 CSV\n",
      "Downloaded one Spotify Viral Top 50 CSV\n",
      "Downloaded one Spotify Viral Top 50 CSV\n",
      "Downloaded one Spotify Viral Top 50 CSV\n",
      "Downloaded one Spotify Viral Top 50 CSV\n",
      "Downloaded one Spotify Viral Top 50 CSV\n",
      "Downloaded one Spotify Viral Top 50 CSV\n",
      "Downloaded one Spotify Viral Top 50 CSV\n",
      "Downloaded one Spotify Viral Top 50 CSV\n",
      "Downloaded one Spotify Viral Top 50 CSV\n",
      "Downloaded one Spotify Viral Top 50 CSV\n",
      "Downloaded one Spotify Viral Top 50 CSV\n",
      "Downloaded one Spotify Viral Top 50 CSV\n",
      "Downloaded one Spotify Viral Top 50 CSV\n",
      "Downloaded one Spotify Viral Top 50 CSV\n",
      "Downloaded one Spotify Viral Top 50 CSV\n",
      "Downloaded one Spotify Viral Top 50 CSV\n",
      "Downloaded one Spotify Viral Top 50 CSV\n",
      "Downloaded one Spotify Viral Top 50 CSV\n",
      "Downloaded one Spotify Viral Top 50 CSV\n",
      "Downloaded one Spotify Viral Top 50 CSV\n",
      "Downloaded one Spotify Viral Top 50 CSV\n",
      "Downloaded one Spotify Viral Top 50 CSV\n",
      "Downloaded one Spotify Viral Top 50 CSV\n",
      "Downloaded one Spotify Viral Top 50 CSV\n",
      "Downloaded one Spotify Viral Top 50 CSV\n",
      "Downloaded one Spotify Viral Top 50 CSV\n",
      "Downloaded one Spotify Viral Top 50 CSV\n",
      "Downloaded one Spotify Viral Top 50 CSV\n",
      "Downloaded one Spotify Viral Top 50 CSV\n",
      "Downloaded one Spotify Viral Top 50 CSV\n",
      "Downloaded one Spotify Viral Top 50 CSV\n",
      "Downloaded one Spotify Viral Top 50 CSV\n",
      "Downloaded one Spotify Viral Top 50 CSV\n",
      "Downloaded one Spotify Viral Top 50 CSV\n",
      "Downloaded one Spotify Viral Top 50 CSV\n",
      "Downloaded one Spotify Viral Top 50 CSV\n",
      "Downloaded one Spotify Viral Top 50 CSV\n",
      "Downloaded one Spotify Viral Top 50 CSV\n",
      "Downloaded one Spotify Viral Top 50 CSV\n",
      "Downloaded one Spotify Viral Top 50 CSV\n"
     ]
    }
   ],
   "source": [
    "# Run me --> MAGIC\n",
    "download_spotify()\n",
    "# function takes about 30 seconds to run for 3 datasets --> will take a long time to run for a full year"
   ]
  }
 ],
 "metadata": {
  "kernelspec": {
   "display_name": "Python 3",
   "language": "python",
   "name": "python3"
  },
  "language_info": {
   "codemirror_mode": {
    "name": "ipython",
    "version": 3
   },
   "file_extension": ".py",
   "mimetype": "text/x-python",
   "name": "python",
   "nbconvert_exporter": "python",
   "pygments_lexer": "ipython3",
   "version": "3.8.5"
  }
 },
 "nbformat": 4,
 "nbformat_minor": 4
}

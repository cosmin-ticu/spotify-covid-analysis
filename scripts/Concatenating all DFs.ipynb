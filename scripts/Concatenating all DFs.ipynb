{
 "cells": [
  {
   "cell_type": "code",
   "execution_count": 22,
   "metadata": {},
   "outputs": [],
   "source": [
    "import os\n",
    "import pandas as pd\n",
    "import datetime"
   ]
  },
  {
   "cell_type": "code",
   "execution_count": 6,
   "metadata": {},
   "outputs": [],
   "source": [
    "filenames = os.listdir()"
   ]
  },
  {
   "cell_type": "code",
   "execution_count": 10,
   "metadata": {},
   "outputs": [
    {
     "name": "stdout",
     "output_type": "stream",
     "text": [
      "This file -> .ipynb_checkpoints does not belong to the lists\n",
      "This file -> Concatenating all DFs.ipynb does not belong to the lists\n",
      "This file -> Running Covid-19 API.ipynb does not belong to the lists\n",
      "This file -> Scraping Spotify Top 50 Viral - draft.ipynb does not belong to the lists\n",
      "This file -> Scraping Spotify Top 50 Viral.ipynb does not belong to the lists\n"
     ]
    }
   ],
   "source": [
    "### Assign filenames to lists based on first letter. Print warning for skipped files.\n",
    "spotify_file_list = []\n",
    "\n",
    "for i in filenames:\n",
    "    if i[0] == \"v\":\n",
    "        spotify_file_list.append(i)\n",
    "    else:\n",
    "        print('This file -> {} does not belong to the lists'.format(i))"
   ]
  },
  {
   "cell_type": "code",
   "execution_count": 20,
   "metadata": {},
   "outputs": [],
   "source": [
    "### initialize empty list to use in the loop\n",
    "spotify_dataframes = []\n",
    "\n",
    "### read every spotify viral top 50 CSV into the list\n",
    "for i in spotify_file_list:\n",
    "    date_for_file = i.split('--')[-1].split('.')[0]\n",
    "    date_for_file = datetime.datetime.strptime(date_for_file, \"%Y-%m-%d\").date()\n",
    "    i_df = pd.read_csv(i)\n",
    "    i_df['Date'] = date_for_file\n",
    "    spotify_dataframes.append(i_df)\n",
    "    \n",
    "### concatenate all the dataframes into one\n",
    "spotify_viral = pd.concat(spotify_dataframes)"
   ]
  },
  {
   "cell_type": "code",
   "execution_count": 24,
   "metadata": {},
   "outputs": [],
   "source": [
    "spotify_viral.to_csv('spotify_viral_weekly_2020.csv')"
   ]
  },
  {
   "cell_type": "code",
   "execution_count": null,
   "metadata": {},
   "outputs": [],
   "source": []
  }
 ],
 "metadata": {
  "kernelspec": {
   "display_name": "Python 3",
   "language": "python",
   "name": "python3"
  },
  "language_info": {
   "codemirror_mode": {
    "name": "ipython",
    "version": 3
   },
   "file_extension": ".py",
   "mimetype": "text/x-python",
   "name": "python",
   "nbconvert_exporter": "python",
   "pygments_lexer": "ipython3",
   "version": "3.8.5"
  }
 },
 "nbformat": 4,
 "nbformat_minor": 4
}
